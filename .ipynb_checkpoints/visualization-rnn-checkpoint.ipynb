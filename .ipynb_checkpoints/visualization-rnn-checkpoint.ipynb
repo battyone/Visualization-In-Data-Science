{
 "cells": [
  {
   "cell_type": "code",
   "execution_count": 8,
   "metadata": {},
   "outputs": [],
   "source": [
    "import numpy as np"
   ]
  },
  {
   "cell_type": "markdown",
   "metadata": {},
   "source": [
    "### Layers"
   ]
  },
  {
   "cell_type": "code",
   "execution_count": 9,
   "metadata": {},
   "outputs": [],
   "source": [
    "class Layer:\n",
    "    def __init__(self, learning_rate):\n",
    "        self._learning_rate = learning_rate\n",
    "        \n",
    "    def forward(self, W, x):\n",
    "        raise NotImplementedError\n",
    "        \n",
    "    def backward(self, W, x, dz):\n",
    "        raise NotImplementedError"
   ]
  },
  {
   "cell_type": "code",
   "execution_count": 10,
   "metadata": {},
   "outputs": [
    {
     "ename": "SyntaxError",
     "evalue": "'return' outside function (<ipython-input-10-c12d818fecd7>, line 21)",
     "output_type": "error",
     "traceback": [
      "\u001b[0;36m  File \u001b[0;32m\"<ipython-input-10-c12d818fecd7>\"\u001b[0;36m, line \u001b[0;32m21\u001b[0m\n\u001b[0;31m    return dx1, dx2\u001b[0m\n\u001b[0m    ^\u001b[0m\n\u001b[0;31mSyntaxError\u001b[0m\u001b[0;31m:\u001b[0m 'return' outside function\n"
     ]
    }
   ],
   "source": [
    "class Multiply(Layer):\n",
    "    def __init__(self, learning_rate):\n",
    "        super.__init__(learning_rate)\n",
    "        \n",
    "    def forward(self, weights, input):\n",
    "        return weights @ input\n",
    "\n",
    "    def backward(self, weights, input, dz):\n",
    "        d_weights = np.asarray(np.dot(np.transpose(np.asmatrix(dz)), np.asmatrix(input)))\n",
    "        d_input = np.dot(np.transpose(weights), dz)\n",
    "        return d_weights, d_input\n",
    "\n",
    "class Add(Layer):\n",
    "    def forward(self, input_1, input_2):\n",
    "        return input_1 + input_2\n",
    "\n",
    "    def backward(self, input_1, input_2, dz):\n",
    "        d_input_1 = dz * np.ones_like(input_1)\n",
    "        d_input_2 = dz * np.ones_like(input_2)\n",
    "        return d_input_1, d_input_2"
   ]
  },
  {
   "cell_type": "code",
   "execution_count": null,
   "metadata": {},
   "outputs": [],
   "source": []
  }
 ],
 "metadata": {
  "kernelspec": {
   "display_name": "Python 3",
   "language": "python",
   "name": "python3"
  },
  "language_info": {
   "codemirror_mode": {
    "name": "ipython",
    "version": 3
   },
   "file_extension": ".py",
   "mimetype": "text/x-python",
   "name": "python",
   "nbconvert_exporter": "python",
   "pygments_lexer": "ipython3",
   "version": "3.6.5"
  }
 },
 "nbformat": 4,
 "nbformat_minor": 2
}
