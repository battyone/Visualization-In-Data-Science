{
 "cells": [
  {
   "cell_type": "code",
   "execution_count": 1,
   "metadata": {},
   "outputs": [],
   "source": [
    "import pandas as pd\n",
    "from importlib import reload\n",
    "import utils as d; reload(d)\n",
    "import matplotlib.pyplot as plt\n",
    "from scipy import stats\n",
    "import numpy as np\n",
    "from sklearn.metrics import confusion_matrix, accuracy_score, f1_score\n",
    "from sklearn.preprocessing import StandardScaler\n",
    "import ipywidgets as widgets\n",
    "from ipywidgets import interact, FloatSlider"
   ]
  },
  {
   "cell_type": "markdown",
   "metadata": {},
   "source": [
    "# Dataset"
   ]
  },
  {
   "cell_type": "markdown",
   "metadata": {},
   "source": [
    "## Load"
   ]
  },
  {
   "cell_type": "code",
   "execution_count": 2,
   "metadata": {},
   "outputs": [],
   "source": [
    "df = d.load_dataset()"
   ]
  },
  {
   "cell_type": "markdown",
   "metadata": {},
   "source": [
    "## Create X and Y"
   ]
  },
  {
   "cell_type": "code",
   "execution_count": 3,
   "metadata": {},
   "outputs": [],
   "source": [
    "PREDICTED_COLUMNS = ['diagnosis']\n",
    "FEATURES = ['mean']\n",
    "x, y = d.create_xy(df, FEATURES, PREDICTED_COLUMNS)"
   ]
  },
  {
   "cell_type": "code",
   "execution_count": 4,
   "metadata": {},
   "outputs": [],
   "source": [
    "x = d.preprocess_data(x)\n",
    "N_FEATURES = x.shape[-1]"
   ]
  },
  {
   "cell_type": "markdown",
   "metadata": {},
   "source": [
    "## Split Train, Val & Test"
   ]
  },
  {
   "cell_type": "code",
   "execution_count": 5,
   "metadata": {},
   "outputs": [],
   "source": [
    "(x_train, y_train), (x_val, y_val), (x_test, y_test) = d.split_train_val_test(x, y, train_perc=0.6)"
   ]
  },
  {
   "cell_type": "code",
   "execution_count": 6,
   "metadata": {},
   "outputs": [
    {
     "name": "stdout",
     "output_type": "stream",
     "text": [
      "# Examples for training: 214\n",
      "# Examples for validation: 177\n",
      "# Examples for test: 178\n"
     ]
    }
   ],
   "source": [
    "print('# Examples for training:', len(x_train))\n",
    "print('# Examples for validation:', len(x_val))\n",
    "print('# Examples for test:',  len(x_test))"
   ]
  },
  {
   "cell_type": "markdown",
   "metadata": {},
   "source": [
    "# Comparing Outlier detection methods"
   ]
  },
  {
   "cell_type": "markdown",
   "metadata": {},
   "source": [
    "- Which features am I taking into account to detect outliers? \n",
    "    - Univariate \n",
    "        - Box plots, Z-Scores\n",
    "    - Multivariate\n",
    "- Can I assume a distribution(s) of values for my selected features? \n",
    "    - Parametric \n",
    "        - Z-Score, IQR score\n",
    "    - Non-parametric\n",
    "        - PCA, LMS, Proximity Based Models"
   ]
  },
  {
   "cell_type": "markdown",
   "metadata": {},
   "source": [
    "### Sources of outliers"
   ]
  },
  {
   "cell_type": "markdown",
   "metadata": {},
   "source": [
    "* Data entry errors\n",
    "* Measurement errors (instrument errors)\n",
    "* Experimental errors (data extraction or experiment planning/executing errors)\n",
    "* Natural (not an error, novelties in data)"
   ]
  },
  {
   "cell_type": "markdown",
   "metadata": {},
   "source": [
    "## Interquartile Range (IQR) score"
   ]
  },
  {
   "cell_type": "markdown",
   "metadata": {},
   "source": [
    "![title](http://www.statisticshowto.com/wp-content/uploads/2012/03/iqr.jpg)"
   ]
  },
  {
   "cell_type": "code",
   "execution_count": 7,
   "metadata": {},
   "outputs": [],
   "source": [
    "def get_iqr_score(x):\n",
    "    q1 = pd.DataFrame(x).quantile(0.25).values\n",
    "    q3 = pd.DataFrame(x).quantile(0.75).values\n",
    "    IQR = q3 - q1\n",
    "    return IQR, q3, q1\n",
    "\n",
    "IQR, q3, q1 = get_iqr_score(x_test)"
   ]
  },
  {
   "cell_type": "code",
   "execution_count": 8,
   "metadata": {},
   "outputs": [
    {
     "data": {
      "application/vnd.jupyter.widget-view+json": {
       "model_id": "fa76516c5cc1488286093cd219aef0b0",
       "version_major": 2,
       "version_minor": 0
      },
      "text/plain": [
       "HBox(children=(FloatSlider(value=0.0, max=2.0, step=0.05), FloatSlider(value=0.0, max=1.0, step=0.01)))"
      ]
     },
     "metadata": {},
     "output_type": "display_data"
    },
    {
     "data": {
      "application/vnd.jupyter.widget-view+json": {
       "model_id": "f6bd73a0c6e545b594c78c9a93487eb8",
       "version_major": 2,
       "version_minor": 0
      },
      "text/plain": [
       "Output()"
      ]
     },
     "metadata": {},
     "output_type": "display_data"
    }
   ],
   "source": [
    "from sklearn.decomposition import PCA\n",
    "pca = PCA(n_components=2)\n",
    "\n",
    "k = FloatSlider(min=0, max=2.0, step=.05)\n",
    "threshold_vote_outlier = FloatSlider(min=0, max=1, step=.01)\n",
    "\n",
    "ui = widgets.HBox([k, threshold_vote_outlier])\n",
    "\n",
    "def plot(x, outliers_idx, real_outlier_index):\n",
    "    fig = plt.figure(figsize=(13, 8))\n",
    "    ax = fig.add_subplot(111)\n",
    "    ax.scatter(x[~outliers_idx, 0], x[~outliers_idx, 1], alpha=0.7, label='Inliers', c='r')\n",
    "    ax.scatter(x[outliers_idx, 0], x[outliers_idx, 1], alpha=0.7, label='Predicted outliers', c='g')\n",
    "    ax.scatter(x[real_outlier_index, 0], x[real_outlier_index, 1], alpha=0.4, label='Real outliers', c='b')\n",
    "\n",
    "    plt.legend(loc='upper left')\n",
    "    plt.grid()\n",
    "    plt.show()\n",
    "    \n",
    "def iqr_get_outliers(x, spread, threshold):\n",
    "    x_pca = pca.fit(x).transform(x)\n",
    "    outliers_candidates = (x < (q1 - spread * IQR)) | (x > (q3 + spread * IQR))\n",
    "    outliers_idx = np.apply_along_axis(lambda c: c.mean() >= threshold, 1, outliers_candidates) \n",
    "    return x_pca, outliers_idx\n",
    "\n",
    "data, target = x_test, y_test\n",
    "real_outliers_idx = (target[:, 0] == 'M')\n",
    "\n",
    "def f(k, threshold_vote_outlier):    \n",
    "    x_pca, outliers_idx = iqr_get_outliers(data, k, threshold_vote_outlier)\n",
    "    d.plot_confusion_matrix(confusion_matrix(real_outliers_idx, outliers_idx), [False, True])\n",
    "    plot(x_pca, outliers_idx, real_outliers_idx)\n",
    "    \n",
    "\n",
    "out = widgets.interactive_output(f, {'k': k, 'threshold_vote_outlier': threshold_vote_outlier})\n",
    "display(ui, out)"
   ]
  },
  {
   "cell_type": "markdown",
   "metadata": {},
   "source": [
    "### Grid Search for Hyperparameters"
   ]
  },
  {
   "cell_type": "code",
   "execution_count": 9,
   "metadata": {},
   "outputs": [],
   "source": [
    "y_val_true = y_val[:, 0] == 'M'"
   ]
  },
  {
   "cell_type": "code",
   "execution_count": 10,
   "metadata": {},
   "outputs": [],
   "source": [
    "_, w = np.unique(y_val_true, return_counts=True)"
   ]
  },
  {
   "cell_type": "code",
   "execution_count": 11,
   "metadata": {},
   "outputs": [],
   "source": [
    "weights = [w[0] if y == True else w[1] for y in y_val_true]"
   ]
  },
  {
   "cell_type": "code",
   "execution_count": 12,
   "metadata": {},
   "outputs": [],
   "source": [
    "acc = []\n",
    "param = []\n",
    "\n",
    "for k in np.arange(0, 2, 0.1):\n",
    "    for th in np.arange(0, 1, 0.1):\n",
    "        x_pca, outliers_idx = iqr_get_outliers(x_val, k, th)\n",
    "        acc.append(accuracy_score(y_val_true, outliers_idx, sample_weight=weights))\n",
    "        param.append((k, th))"
   ]
  },
  {
   "cell_type": "code",
   "execution_count": 13,
   "metadata": {},
   "outputs": [
    {
     "data": {
      "image/png": "[encoded data removed]",
      "text/plain": [
       "<Figure size 432x288 with 1 Axes>"
      ]
     },
     "metadata": {},
     "output_type": "display_data"
    }
   ],
   "source": [
    "k, th = param[np.argmax(acc)]\n",
    "x_pca, outliers_idx = iqr_get_outliers(x_test, k, th)\n",
    "d.plot_confusion_matrix(confusion_matrix((y_test[:, 0] == 'M'), outliers_idx), [False, True])\n",
    "plt.show()"
   ]
  },
  {
   "cell_type": "markdown",
   "metadata": {},
   "source": [
    "## Isolation Forest"
   ]
  },
  {
   "cell_type": "markdown",
   "metadata": {},
   "source": [
    "* Separate each point from its neighbors\n",
    "    - If it is a inlier, it will take longer to separate\n",
    "    - If it is a outlier, it will separate rapidly\n",
    "    \n",
    "* Works well for multiple dimentions"
   ]
  },
  {
   "cell_type": "markdown",
   "metadata": {},
   "source": [
    "<div style=\"text-align:center\"><img width=\"700px\" src=\"images/outlier2.gif\"></div>\n",
    "<br>\n",
    "<br>\n",
    "<div style=\"text-align:center\">Figure 1: Isolating Outlier.</div>"
   ]
  },
  {
   "cell_type": "markdown",
   "metadata": {},
   "source": [
    "<div style=\"text-align:center\"><img width=\"700px\" src=\"images/inlier2.gif\"></div>\n",
    "<br>\n",
    "<br>\n",
    "<div style=\"text-align:center\">Figure 2: Isolating Inlier.</div>"
   ]
  },
  {
   "cell_type": "code",
   "execution_count": 14,
   "metadata": {},
   "outputs": [],
   "source": [
    "from sklearn.ensemble import IsolationForest"
   ]
  },
  {
   "cell_type": "code",
   "execution_count": 15,
   "metadata": {},
   "outputs": [],
   "source": [
    "x_test_df = pd.DataFrame(x_test, columns=x.columns)"
   ]
  },
  {
   "cell_type": "code",
   "execution_count": null,
   "metadata": {},
   "outputs": [],
   "source": [
    "fig, axs = plt.subplots(N_FEATURES, figsize=(22, 20), facecolor='w', edgecolor='k')\n",
    "axs = axs.ravel()\n",
    "\n",
    "for i, column in enumerate(x_test_df.columns):\n",
    "    isolation_forest = IsolationForest()\n",
    "    isolation_forest.fit(x_test_df[column].values.reshape(-1,1))\n",
    "\n",
    "    xx = np.linspace(x_test_df[column].min(), x_test_df[column].max(), len(x_test_df)).reshape(-1,1)\n",
    "    anomaly_score = isolation_forest.decision_function(xx)\n",
    "    outlier = isolation_forest.predict(xx)\n",
    "    \n",
    "    axs[i].plot(xx, anomaly_score, label='anomaly score')\n",
    "    axs[i].fill_between(xx.T[0], np.min(anomaly_score), np.max(anomaly_score), \n",
    "                     where=outlier==-1, color='r', \n",
    "                     alpha=.4, label='outlier region')\n",
    "    axs[i].legend()\n",
    "    axs[i].set_title(column)\n",
    "fig\n",
    "plt.show()"
   ]
  },
  {
   "cell_type": "code",
   "execution_count": null,
   "metadata": {},
   "outputs": [],
   "source": [
    "data = np.vstack([x_train, x_val])\n",
    "contamination = sum(y_val == 'M') / (len(y_val) + len(y_train))\n",
    "model = IsolationForest(contamination=contamination)\n",
    "model.fit(data)"
   ]
  },
  {
   "cell_type": "code",
   "execution_count": null,
   "metadata": {},
   "outputs": [],
   "source": [
    "outliers = pd.Series(model.predict(x_test)).map({-1: True, 1: False})\n",
    "d.plot_confusion_matrix(confusion_matrix(y_test[:, 0] == 'M', outliers), [False, True])\n",
    "plt.show()"
   ]
  },
  {
   "cell_type": "code",
   "execution_count": null,
   "metadata": {},
   "outputs": [],
   "source": [
    "plt.title('Anomaly Score')\n",
    "plt.plot(model.decision_function(x_test))\n",
    "plt.show()"
   ]
  },
  {
   "cell_type": "markdown",
   "metadata": {},
   "source": [
    "Done!"
   ]
  }
 ],
 "metadata": {
  "kernelspec": {
   "display_name": "Python 3",
   "language": "python",
   "name": "python3"
  },
  "language_info": {
   "codemirror_mode": {
    "name": "ipython",
    "version": 3
   },
   "file_extension": ".py",
   "mimetype": "text/x-python",
   "name": "python",
   "nbconvert_exporter": "python",
   "pygments_lexer": "ipython3",
   "version": "3.6.5"
  }
 },
 "nbformat": 4,
 "nbformat_minor": 2
}
