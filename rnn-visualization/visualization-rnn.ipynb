{
 "cells": [
  {
   "cell_type": "code",
   "execution_count": 1,
   "metadata": {},
   "outputs": [],
   "source": [
    "import numpy as np\n",
    "from tqdm import tqdm\n",
    "import matplotlib.pyplot as plt\n",
    "from mpl_toolkits import mplot3d\n",
    "import pickle\n",
    "%matplotlib inline"
   ]
  },
  {
   "cell_type": "markdown",
   "metadata": {},
   "source": [
    "## Data load"
   ]
  },
  {
   "cell_type": "code",
   "execution_count": 2,
   "metadata": {},
   "outputs": [],
   "source": [
    "with open('data.pkl', 'rb') as input:\n",
    "    X_train = pickle.load(input)\n",
    "    char_to_indexes = pickle.load(input)\n",
    "    indexes_to_char = pickle.load(input)  \n",
    "    data_size = pickle.load(input)\n",
    "    vocab_size = pickle.load(input)  "
   ]
  },
  {
   "cell_type": "code",
   "execution_count": 3,
   "metadata": {
    "scrolled": true
   },
   "outputs": [],
   "source": [
    "data = open('data.txt', 'r').read()\n",
    "chars = list(set(data))\n",
    "data_size, vocab_size = len(data), len(chars)\n",
    "char_to_indexes = { ch:i for i, ch in enumerate(chars) }\n",
    "indexes_to_char = { i:ch for i, ch in enumerate(chars) }\n",
    "\n",
    "X_train = np.zeros((data_size, vocab_size))\n",
    "X_train[np.arange(data_size), \n",
    "        [char_to_indexes[char] for char in data]\n",
    "       ] = 1"
   ]
  },
  {
   "cell_type": "markdown",
   "metadata": {},
   "source": [
    "### hyperparameters"
   ]
  },
  {
   "cell_type": "code",
   "execution_count": 4,
   "metadata": {},
   "outputs": [],
   "source": [
    "hidden_size = 100\n",
    "seq_length = 25\n",
    "learning_rate = 1e-1"
   ]
  },
  {
   "cell_type": "markdown",
   "metadata": {},
   "source": [
    "## RNN"
   ]
  },
  {
   "cell_type": "markdown",
   "metadata": {},
   "source": [
    "### Backward step computation for one timestep"
   ]
  },
  {
   "cell_type": "markdown",
   "metadata": {},
   "source": [
    "I) $$ \\frac{\\partial (tanh(x))}{\\partial (x)} = 1 - tanh^2(x)$$"
   ]
  },
  {
   "cell_type": "markdown",
   "metadata": {},
   "source": [
    "II) $$ \\frac{\\partial (Ux_t + Ws_{t-1} + b)}{\\partial (Ux_t)} = 1$$\n",
    "$$ \\frac{\\partial (Ux_t + Ws_{t-1} + b)}{\\partial (Ws_{t-1})} = 1$$\n",
    "$$ \\frac{\\partial (Ux_t + Ws_{t-1} + b)}{\\partial (b)} = 1$$\n"
   ]
  },
  {
   "cell_type": "markdown",
   "metadata": {},
   "source": [
    "III.a) $$ \\frac{\\partial (Ws_{t-1})}{\\partial (W)} = s_{t-1}$$\n",
    "$$ \\frac{\\partial (Ws_{t-1})}{\\partial (s_{t-1})} = W$$\n",
    "\n",
    "III.b) $$ \\frac{\\partial (Ux_t)}{\\partial (U)} = x_t$$\n",
    "$$ \\frac{\\partial (Ux_t)}{\\partial (x_t)} = U$$\n"
   ]
  },
  {
   "cell_type": "code",
   "execution_count": 5,
   "metadata": {},
   "outputs": [],
   "source": [
    "def cross_entropy(x, y):\n",
    "    '''\n",
    "    x: input in a one hot encoding\n",
    "    y: index encoding\n",
    "    '''\n",
    "    return -np.log(x[y, 0])\n",
    "\n",
    "def cross_entropy_derivative(y_predicted, y):\n",
    "    '''\n",
    "    y_predicted: input in a one hot encoding\n",
    "    y: index encoding\n",
    "    '''\n",
    "    y_predicted[y] -= 1\n",
    "    return y_predicted\n",
    "\n",
    "def softmax(x):\n",
    "    exps = np.exp(x)\n",
    "    return exps / np.sum(exps)\n"
   ]
  },
  {
   "cell_type": "code",
   "execution_count": 6,
   "metadata": {},
   "outputs": [],
   "source": [
    "class RNN():\n",
    "    def __init__(self, vocab_size,\n",
    "                 loss_function=cross_entropy, loss_function_derivative=cross_entropy_derivative,\n",
    "                 activation_function=np.tanh,\n",
    "                 hidden_size=100, seq_length = 25, learning_rate = 1e-1):\n",
    "        \n",
    "        _variace = 0.01\n",
    "        self.U = np.random.randn(hidden_size, vocab_size) * _variace # to input\n",
    "        self.W = np.random.randn(hidden_size, hidden_size) * _variace # to recurrent\n",
    "        self.V = np.random.randn(vocab_size, hidden_size) * _variace # to output\n",
    "\n",
    "        self.b_s = np.zeros((hidden_size, 1)) # hidden bias\n",
    "        self.b_y = np.zeros((vocab_size, 1)) # output bias\n",
    "        \n",
    "        self.loss_function = loss_function\n",
    "        self.loss_function_derivative = loss_function_derivative\n",
    "        self.activation_function = activation_function\n",
    "        \n",
    "        \n",
    "        self.learning_rate = learning_rate\n",
    "        self.hidden_size = hidden_size\n",
    "        self.seq_length = seq_length\n",
    "        self.vocab_size = vocab_size\n",
    "        self.s = {}\n",
    "        self.state_gradients = {}\n",
    "        self.input_gradients = {}\n",
    "        self.recurrent_gradients = {}\n",
    "        \n",
    "    @property\n",
    "    def params(self):\n",
    "        return {'U':self.U, 'W':self.W, 'V':self.V, 'b_s':self.b_s, 'b_y':self.b_y}\n",
    "        \n",
    "    def _step_forward(self, x, prev_s):\n",
    "        next_s = self.activation_function(np.dot(self.U, x.reshape((-1, 1))) +\n",
    "                                          np.dot(self.W, prev_s) + \n",
    "                                          self.b_s)\n",
    "        y_predicted = np.dot(self.V, next_s) + self.b_y\n",
    "        probability_predicted = softmax(y_predicted)\n",
    "        return next_s, y_predicted, probability_predicted\n",
    "    \n",
    "    def forward(self, x, y, s_initial=None):\n",
    "        '''\n",
    "        x: input in a one hot encoding sentence\n",
    "        y: index encoding sentence\n",
    "        '''\n",
    "        y_predicted, probability_predicted = {}, {}\n",
    "        if s_initial is not None:\n",
    "            self.s[-1] = np.copy(s_initial)\n",
    "        else:\n",
    "            self.s[-1] = np.zeros((self.hidden_size, 1))\n",
    "        loss = 0\n",
    "        for t in range(len(x)):\n",
    "            self.s[t], y_predicted[t], probability_predicted[t] = self._step_forward(x[t], self.s[t - 1])\n",
    "            loss += self.loss_function(probability_predicted[t], y[t])\n",
    "        return loss, self.s, y_predicted, probability_predicted \n",
    "    \n",
    "    def backpropagate_loss(self, probability_predicted, x, y):\n",
    "        '''\n",
    "        probability_predicted: it comes from the forward pass\n",
    "        x: input in a one hot encoding sentence\n",
    "        y: index encoding sentence\n",
    "        '''\n",
    "        dU, dW, dV = np.zeros_like(self.U), np.zeros_like(self.W), np.zeros_like(self.V)\n",
    "        db_s, db_y = np.zeros_like(self.b_s), np.zeros_like(self.b_y)\n",
    "        ds_previous_time = np.zeros_like(self.s[0])\n",
    "        for t in reversed(range(len(x))):\n",
    "            # propagate gradients\n",
    "            probability_predicted_at_t = np.copy(probability_predicted[t])\n",
    "            d_loss = self.loss_function_derivative(probability_predicted_at_t, y[t])\n",
    "            # d(loss)/d(V) = (d(sigmoid(Vs))/d(Vs)) * (d(Vs)/dV) = (d(sigmoid(Vs))/d(Vs)) * s\n",
    "            dV += np.dot(d_loss, self.s[t].T)\n",
    "            # d(loss)/d(bias) = (d(sigmoid(Vs))/d(Vs)) * (d(Vs + b)/db) = (d(sigmoid(Vs))/d(Vs)) * 1            \n",
    "            db_y += d_loss\n",
    "            # d(loss)/d(s) = (d(sigmoid(Vs + b))/d(Vs + b)) * (d(Vs + b)/ds) = (d(sigmoid(Vs))/d(Vs)) * V\n",
    "            ds = np.dot(self.V.T, d_loss) + ds_previous_time\n",
    "            # d(s)/d(Ws_t-1 + Ux + b) = d(tanh(Ws_t-1 + Ux + b))/d(Ws_t-1 + Ux + b) = (1 - (tanh^2(Ws_t-1 + Ux + b))) * ds\n",
    "            dsum = (1 - self.s[t] * self.s[t]) * ds\n",
    "            # d(s)/d(Ws_t-1 + Ux + b) = d(tanh(Ws_t-1 + Ux + b))/d(b) = (1 - (tanh^2(Ws_t-1 + Ux + b))) * 1\n",
    "            db_s += dsum\n",
    "            \n",
    "            # d(sum)/d(U) = d(Ws_t-1 + Ux + b)/dU = x.   => dU = d(next_layer)/dU  * d(next_layer_output)            \n",
    "            dU += np.dot(dsum, x[t].reshape((1, -1)))\n",
    "            dW += np.dot(dsum, self.s[t - 1].T)\n",
    "            ds_previous_time = np.dot(self.W.T, dsum) \n",
    "            \n",
    "            self.state_gradients[t] = ds_previous_time\n",
    "            self.input_gradients[t] = np.sum(np.square(dU), axis=1)\n",
    "            self.recurrent_gradients[t] = np.sum(np.square(dW), axis=1)\n",
    "        \n",
    "        for param in [dU, dW, dV, db_s, db_y]:\n",
    "            np.clip(param, -5, 5, out=param)\n",
    "            \n",
    "        return dU, dW, dV, db_s, db_y\n",
    "    \n",
    "    def sample(self, seed, n):\n",
    "        '''\n",
    "        seed: index of first char\n",
    "        n: number of chars to sample\n",
    "        '''\n",
    "        char_one_hot = np.zeros((self.vocab_size, 1))\n",
    "        char_one_hot[seed] = 1\n",
    "        chars = []\n",
    "        state = np.zeros((self.hidden_size, 1))\n",
    "        for t in range(n):\n",
    "            state, y_predicted, probability_predicted = self._step_forward(char_one_hot, state)\n",
    "            index = np.random.choice(range(vocab_size), p=probability_predicted.ravel())\n",
    "            chars.append(indexes_to_char[index])\n",
    "            char_one_hot = np.zeros((self.vocab_size, 1))\n",
    "            char_one_hot[index]\n",
    "            \n",
    "        txt = ''.join(chars)\n",
    "        print(txt)\n",
    "        \n",
    "    def set_parameters(self, param_dict):\n",
    "        self.U = param_dict['U']\n",
    "        self.W = param_dict['W']\n",
    "        self.V = param_dict['V']\n",
    "        self.b_s = param_dict['b_s']\n",
    "        self.b_y = param_dict['b_y']\n",
    "        "
   ]
  },
  {
   "cell_type": "code",
   "execution_count": 7,
   "metadata": {},
   "outputs": [],
   "source": [
    "rnn = RNN(vocab_size)"
   ]
  },
  {
   "cell_type": "markdown",
   "metadata": {},
   "source": [
    "### Train generator\n"
   ]
  },
  {
   "cell_type": "code",
   "execution_count": 8,
   "metadata": {},
   "outputs": [],
   "source": [
    "def train_data_generator(data, step=1, chunk_size=10, one_hot_targets=False):\n",
    "    if step > len(data):\n",
    "        raise ValueError\n",
    "    data_pointer = 0\n",
    "    while data_pointer + chunk_size < len(data) - 1:\n",
    "        x_train_batch = data[data_pointer:data_pointer + chunk_size]\n",
    "        y_train_batch = data[data_pointer + 1:data_pointer + chunk_size + 1]\n",
    "        data_pointer += step\n",
    "        if not one_hot_targets:\n",
    "            y_train_batch = list(np.argmax(y_train_batch, axis=1))\n",
    "        \n",
    "        yield x_train_batch, y_train_batch"
   ]
  },
  {
   "cell_type": "markdown",
   "metadata": {},
   "source": [
    "### Optimizer"
   ]
  },
  {
   "cell_type": "code",
   "execution_count": 9,
   "metadata": {},
   "outputs": [],
   "source": [
    "class AdaGrad:\n",
    "    def __init__(self, lr, params):\n",
    "        self.learning_rate = lr\n",
    "        self.params_to_optimize = {}\n",
    "        self.old_G = {}\n",
    "        for key, param in params.items():\n",
    "            self.params_to_optimize[key] = param\n",
    "            self.old_G[key] = np.zeros_like(param)\n",
    "    \n",
    "    def update(self, grad_params):\n",
    "        if len(grad_params.keys()) is not len(self.params_to_optimize.keys()):\n",
    "            raise ValueError\n",
    "                    \n",
    "        for key, param in grad_params.items():\n",
    "            self.old_G[key] += grad_params[key] * grad_params[key]\n",
    "            self.params_to_optimize[key] -= self.learning_rate * grad_params[key] / np.sqrt(self.old_G[key] + 1e-8)\n",
    "            \n",
    "        return self.params_to_optimize"
   ]
  },
  {
   "cell_type": "code",
   "execution_count": 10,
   "metadata": {},
   "outputs": [],
   "source": [
    "adagrad = AdaGrad(learning_rate, rnn.params)"
   ]
  },
  {
   "cell_type": "markdown",
   "metadata": {},
   "source": [
    "### plot of gradient over time"
   ]
  },
  {
   "cell_type": "code",
   "execution_count": 11,
   "metadata": {},
   "outputs": [],
   "source": [
    "def plot_gradient_over_time(grad_dict):\n",
    "    grad_over_time = [np.sum(np.square(grad_at_t)) for key, grad_at_t in grad_dict.items()] \n",
    "    x = np.arange(-seq_length + 1, 1, 1)\n",
    "    plt.plot(x, grad_over_time)\n",
    "    "
   ]
  },
  {
   "cell_type": "markdown",
   "metadata": {},
   "source": [
    "### Train"
   ]
  },
  {
   "cell_type": "code",
   "execution_count": null,
   "metadata": {
    "scrolled": false
   },
   "outputs": [
    {
     "name": "stderr",
     "output_type": "stream",
     "text": [
      "\r",
      "  0%|          | 0/1 [00:00<?, ?it/s]"
     ]
    },
    {
     "data": {
      "image/png": "[encoded data removed]",
      "text/plain": [
       "<Figure size 1080x792 with 3 Axes>"
      ]
     },
     "metadata": {},
     "output_type": "display_data"
    },
    {
     "name": "stdout",
     "output_type": "stream",
     "text": [
      "eEK4N/kw0iiG7%GPtS1Iin)I ,hS rg0eg(vTnA2sgeggeqG' e'io$lGw\n",
      "omPoBgo-kOmiGmrnhSCHgJ:oGmGTSgmggxw.Pc'e \n",
      "109.55046797599836\n"
     ]
    }
   ],
   "source": [
    "n_epocs = 1\n",
    "i = 0\n",
    "losses = []\n",
    "for epoc in tqdm(range(n_epocs)):\n",
    "    for x_train, y_train in train_data_generator(X_train, step=1, chunk_size=seq_length):\n",
    "        loss, history_state, y_predicted, probability_predicted = rnn.forward(x_train, y_train)\n",
    "        dU, dW, dV, db_s, db_y = rnn.backpropagate_loss(probability_predicted, x_train, y_train)\n",
    "        params = adagrad.update({'U':dU, 'W':dW, 'V':dV, 'b_s':db_s, 'b_y':db_y})\n",
    "        rnn.set_parameters(params)\n",
    "        \n",
    "        if i % 1000 == 0:\n",
    "            plt.figure(figsize=(15, 11))\n",
    "            \n",
    "            plt.subplot(311)\n",
    "            plot_gradient_over_time(rnn.state_gradients)\n",
    "            plt.title('state gradients')\n",
    "            plt.grid(True)\n",
    "            \n",
    "            plt.subplot(312)\n",
    "            plot_gradient_over_time(rnn.input_gradients)\n",
    "            plt.title('input weights gradients')\n",
    "            plt.grid(True)\n",
    "            \n",
    "            plt.subplot(313)\n",
    "            plot_gradient_over_time(rnn.recurrent_gradients)\n",
    "            plt.title('recurrent weights gradients')\n",
    "            plt.grid(True)\n",
    "            \n",
    "            plt.show()\n",
    "            rnn.sample(np.argmax(x_train[0]), 100)\n",
    "            print(loss)\n",
    "            losses.append(loss)\n",
    "        i += 1\n",
    "    n_epoc += 1"
   ]
  },
  {
   "cell_type": "code",
   "execution_count": null,
   "metadata": {},
   "outputs": [],
   "source": [
    "plt.plot(losses)\n",
    "plt.show()"
   ]
  }
 ],
 "metadata": {
  "kernelspec": {
   "display_name": "Python 3",
   "language": "python",
   "name": "python3"
  },
  "language_info": {
   "codemirror_mode": {
    "name": "ipython",
    "version": 3
   },
   "file_extension": ".py",
   "mimetype": "text/x-python",
   "name": "python",
   "nbconvert_exporter": "python",
   "pygments_lexer": "ipython3",
   "version": "3.6.5"
  }
 },
 "nbformat": 4,
 "nbformat_minor": 2
}
