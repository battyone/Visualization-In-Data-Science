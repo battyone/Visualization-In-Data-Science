{
 "cells": [
  {
   "cell_type": "code",
   "execution_count": null,
   "metadata": {},
   "outputs": [],
   "source": [
    "import numpy as np\n",
    "%matplotlib inline"
   ]
  },
  {
   "cell_type": "markdown",
   "metadata": {},
   "source": [
    "## RNN"
   ]
  },
  {
   "cell_type": "markdown",
   "metadata": {},
   "source": [
    "### Backward step computation for one timestep"
   ]
  },
  {
   "cell_type": "markdown",
   "metadata": {},
   "source": [
    "I) $$ \\frac{\\partial (tanh(x))}{\\partial (x)} = 1 - tanh^2(x)$$"
   ]
  },
  {
   "cell_type": "markdown",
   "metadata": {},
   "source": [
    "II) $$ \\frac{\\partial (Ux_t + Ws_{t-1} + b)}{\\partial (Ux_t)} = 1$$\n",
    "$$ \\frac{\\partial (Ux_t + Ws_{t-1} + b)}{\\partial (Ws_{t-1})} = 1$$\n",
    "$$ \\frac{\\partial (Ux_t + Ws_{t-1} + b)}{\\partial (b)} = 1$$\n"
   ]
  },
  {
   "cell_type": "markdown",
   "metadata": {},
   "source": [
    "III.a) $$ \\frac{\\partial (Ws_{t-1})}{\\partial (W)} = s_{t-1}$$\n",
    "$$ \\frac{\\partial (Ws_{t-1})}{\\partial (s_{t-1})} = W$$\n",
    "\n",
    "III.b) $$ \\frac{\\partial (Ux_t)}{\\partial (U)} = x_t$$\n",
    "$$ \\frac{\\partial (Ux_t)}{\\partial (x_t)} = U$$\n"
   ]
  },
  {
   "cell_type": "code",
   "execution_count": null,
   "metadata": {},
   "outputs": [],
   "source": []
  },
  {
   "cell_type": "markdown",
   "metadata": {},
   "source": [
    "## Multiple timesteps"
   ]
  },
  {
   "cell_type": "code",
   "execution_count": null,
   "metadata": {},
   "outputs": [],
   "source": [
    "a = {'a':1,'b':2,'c':3}\n",
    "print(tuple(a.values()))\n"
   ]
  },
  {
   "cell_type": "code",
   "execution_count": null,
   "metadata": {},
   "outputs": [],
   "source": [
    "class RNN():\n",
    "    def __init__(self, time_steps, feature_length, batch_size, hidden_length, s_0):\n",
    "        self.time_steps = time_steps\n",
    "        self.feature_length = feature_length\n",
    "        self.batch_size = batch_size\n",
    "        \n",
    "        self.s = np.zeros((batch_size, time_steps, hidden_length))\n",
    "        self.s[:,-1,:] = s_0\n",
    "        self.cache = []\n",
    "\n",
    "    def _rnn_step_forward(self, x, prev_s, U_x, W_s, b):\n",
    "        linear_transform = np.dot(x, U_x) + np.dot(prev_s, W_s) + b.T\n",
    "        next_s = np.tanh(linear_transform)\n",
    "        _cache = {'input': x, \n",
    "                 'prev_s': prev_s.copy(), \n",
    "                 'weight_x': U_x,\n",
    "                 'weight_s': W_s,\n",
    "                 'next_s': next_s,\n",
    "                 'linear_transform': linear_transform}\n",
    "\n",
    "        return {'next_s': next_s, 'cache': _cache}\n",
    "\n",
    "    def _rnn_step_backward(self, d_next_s, _cache):\n",
    "        (x, prev_s, U_x, W_s, next_s, linear_transform) = tuple(_cache.values())\n",
    "\n",
    "        # I) how much will `linear_transform` vary with an output variation\n",
    "        d_linear_transform = (1 - np.square(np.tanh(linear_transform))) * (d_next_s)\n",
    "\n",
    "        # II) how much will `[Ux, Ws, bias]` vary with d_linear_transform\n",
    "        d_Ux = d_linear_transform\n",
    "        d_Ws = d_linear_transform\n",
    "        d_b = np.sum(d_linear_transform, axis=0)\n",
    "\n",
    "        # III.a) how much will `Ws_{t-1}` vary with [d_Ux, d_Ws, d_b]\n",
    "        d_W_s = prev_s.T.dot(d_Ws)\n",
    "        d_prev_s = W_s.dot(d_Ws.T).T\n",
    "\n",
    "        # III.b) how much will `Ux_t` vary with [d_U_x, d_W_s, d_b]\n",
    "        d_x = d_Ux.dot(U_x.T)\n",
    "        d_U_x = x.T.dot(d_Ux)\n",
    "\n",
    "        return {'d_x': d_x,\n",
    "                'd_prev_s': d_prev_s,\n",
    "                'd_U_x': d_U_x,\n",
    "                'd_W_s': d_W_s,\n",
    "                'd_b': d_b}\n",
    "    \n",
    "    def forward(self, x, U, W, b):\n",
    "        for t in range(time_steps):\n",
    "            self.s[:,t,:], cache_step = tuple(self._rnn_step_forward(x[:, t, :], \n",
    "                                                                     self.s[:, t-1, :], \n",
    "                                                                     U, \n",
    "                                                                     W, \n",
    "                                                                     b).values())\n",
    "            self.cache.append(cache_step)\n",
    "\n",
    "        return self.s, self.cache"
   ]
  }
 ],
 "metadata": {
  "kernelspec": {
   "display_name": "Python 3",
   "language": "python",
   "name": "python3"
  },
  "language_info": {
   "codemirror_mode": {
    "name": "ipython",
    "version": 3
   },
   "file_extension": ".py",
   "mimetype": "text/x-python",
   "name": "python",
   "nbconvert_exporter": "python",
   "pygments_lexer": "ipython3",
   "version": "3.6.5"
  }
 },
 "nbformat": 4,
 "nbformat_minor": 2
}
